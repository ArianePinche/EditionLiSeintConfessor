{
 "cells": [
  {
   "cell_type": "code",
   "execution_count": 2,
   "metadata": {},
   "outputs": [
    {
     "ename": "ModuleNotFoundError",
     "evalue": "No module named 'regex'",
     "output_type": "error",
     "traceback": [
      "\u001b[0;31m---------------------------------------------------------------------------\u001b[0m",
      "\u001b[0;31mModuleNotFoundError\u001b[0m                       Traceback (most recent call last)",
      "\u001b[0;32m<ipython-input-2-2aef9b1422b9>\u001b[0m in \u001b[0;36m<module>\u001b[0;34m\u001b[0m\n\u001b[1;32m      2\u001b[0m \u001b[0;32mfrom\u001b[0m \u001b[0mbokeh\u001b[0m\u001b[0;34m.\u001b[0m\u001b[0mio\u001b[0m \u001b[0;32mimport\u001b[0m \u001b[0mshow\u001b[0m\u001b[0;34m,\u001b[0m \u001b[0moutput_file\u001b[0m\u001b[0;34m\u001b[0m\u001b[0;34m\u001b[0m\u001b[0m\n\u001b[1;32m      3\u001b[0m \u001b[0;32mfrom\u001b[0m \u001b[0mbokeh\u001b[0m\u001b[0;34m.\u001b[0m\u001b[0mplotting\u001b[0m \u001b[0;32mimport\u001b[0m \u001b[0mfigure\u001b[0m\u001b[0;34m\u001b[0m\u001b[0;34m\u001b[0m\u001b[0m\n\u001b[0;32m----> 4\u001b[0;31m \u001b[0;32mimport\u001b[0m \u001b[0mregex\u001b[0m \u001b[0;32mas\u001b[0m \u001b[0mre\u001b[0m\u001b[0;34m\u001b[0m\u001b[0;34m\u001b[0m\u001b[0m\n\u001b[0m\u001b[1;32m      5\u001b[0m \u001b[0;34m\u001b[0m\u001b[0m\n",
      "\u001b[0;31mModuleNotFoundError\u001b[0m: No module named 'regex'"
     ]
    }
   ],
   "source": [
    "from lxml import etree as ET\n",
    "from bokeh.io import show, output_file\n",
    "from bokeh.plotting import figure\n",
    "import regex as re\n",
    "\n"
   ]
  },
  {
   "cell_type": "code",
   "execution_count": 3,
   "metadata": {},
   "outputs": [
    {
     "ename": "NameError",
     "evalue": "name 're' is not defined",
     "output_type": "error",
     "traceback": [
      "\u001b[0;31m---------------------------------------------------------------------------\u001b[0m",
      "\u001b[0;31mNameError\u001b[0m                                 Traceback (most recent call last)",
      "\u001b[0;32m<ipython-input-3-38d0b154c538>\u001b[0m in \u001b[0;36m<module>\u001b[0;34m\u001b[0m\n\u001b[1;32m     10\u001b[0m \u001b[0;34m\u001b[0m\u001b[0m\n\u001b[1;32m     11\u001b[0m \u001b[0;31m# Passage pour compter les mots\u001b[0m\u001b[0;34m\u001b[0m\u001b[0;34m\u001b[0m\u001b[0;34m\u001b[0m\u001b[0m\n\u001b[0;32m---> 12\u001b[0;31m \u001b[0m_punc\u001b[0m \u001b[0;34m=\u001b[0m \u001b[0mre\u001b[0m\u001b[0;34m.\u001b[0m\u001b[0mcompile\u001b[0m\u001b[0;34m(\u001b[0m\u001b[0;34m\"([^<>/\\w\\s])\"\u001b[0m\u001b[0;34m)\u001b[0m\u001b[0;34m\u001b[0m\u001b[0;34m\u001b[0m\u001b[0m\n\u001b[0m\u001b[1;32m     13\u001b[0m \u001b[0m_spaces\u001b[0m \u001b[0;34m=\u001b[0m \u001b[0mre\u001b[0m\u001b[0;34m.\u001b[0m\u001b[0mcompile\u001b[0m\u001b[0;34m(\u001b[0m\u001b[0;34m\"([\\s\\u00a0]+)\"\u001b[0m\u001b[0;34m)\u001b[0m\u001b[0;34m\u001b[0m\u001b[0;34m\u001b[0m\u001b[0m\n\u001b[1;32m     14\u001b[0m \u001b[0;34m\u001b[0m\u001b[0m\n",
      "\u001b[0;31mNameError\u001b[0m: name 're' is not defined"
     ]
    }
   ],
   "source": [
    "with open(\"textM1.xml\") as f:\n",
    "    xml = ET.parse(f)\n",
    "    \n",
    "counts = []\n",
    "identifiers = []\n",
    "\n",
    "manuscrit = \"M1\"\n",
    "# Je récupère les @types et je les mets dans une liste de valeur unique (set) puis je les trie (sorted)\n",
    "cats = sorted(list(set([str(x) for x in xml.xpath(\"//@type\")])))\n",
    "\n",
    "# Passage pour compter les mots\n",
    "_punc = re.compile(\"([^<>/\\w\\s])\")\n",
    "_spaces = re.compile(\"([\\s\\u00a0]+)\")\n",
    "\n",
    "def count_words(text):\n",
    "    text = _spaces.sub(\" \", _punc.sub(\" \\1 \", text))\n",
    "    return len(text.split()), text\n",
    "# Fin des définitions d'outils pour compter les mots\n",
    "\n",
    "# Pour chaque chapitre et chaque \"pas\" de chapitre (0, chapitre1), (1, chapitre2)\n",
    "for chap_no, chap in enumerate(xml.xpath(\"./div\")):\n",
    "    chap_no += 1\n",
    "    for sect_no, section in enumerate(chap.xpath(\"./div\")):\n",
    "        sect_no += 1\n",
    "        for p_no, p in enumerate(section.xpath(\"./p\")):\n",
    "            p_no += 1\n",
    "            # Création d'une chaine identifiant nb_chap.nb_sect.nb_p\n",
    "            identifier = \"{}.{}.{}\".format(chap_no, sect_no, p_no)\n",
    "            # J'ajoute aussi un numero sequentiel de paragraph: les paragraphes sont numérotés de 1 à la fin\n",
    "            identifiers.append(len(identifiers) + 1)\n",
    "            # Création du dictionnaire où il y aura les stats1\n",
    "            stats = {\n",
    "                \"identifier\": identifier,\n",
    "                \"neutral\": 0,\n",
    "                \"edition\": 0,\n",
    "                manuscrit: 0,\n",
    "                **{cat: 0 for cat in cats}\n",
    "            }\n",
    "            \n",
    "            # Récupération du texte non-spécifique\n",
    "            for text_node in p.xpath(\"./text()\"):\n",
    "                cnt, txt = count_words(str(text_node).strip())\n",
    "                if cnt:\n",
    "                    stats[\"neutral\"] += cnt\n",
    "            \n",
    "            # Récupération du texte spécifique à l'Édition (et donc en contradiction avec autre manuscrit)\n",
    "            for text_node in p.xpath(\"./choix/Edition/text()\"):\n",
    "                cnt, txt = count_words(str(text_node).strip())\n",
    "                if cnt:\n",
    "                    stats[\"edition\"] += cnt\n",
    "            \n",
    "            # Pour calcul total, addition du spécifique à l'édition et du général\n",
    "            stats[\"edition_real\"] = stats[\"edition\"] + stats[\"neutral\"]\n",
    "            \n",
    "            # Et maintenant, par catégorie de type\n",
    "            for manuscrit_var in p.xpath(\"./choix/{}\".format(manuscrit)):\n",
    "                cnt, txt = count_words(str(manuscrit_var.text).strip())\n",
    "                if cnt:\n",
    "                    # Je rajoute aussi en fonction de @type\n",
    "                    stats[manuscrit_var.attrib[\"type\"]] += cnt\n",
    "                    # On ajoute aussi au général\n",
    "                    stats[manuscrit] += cnt\n",
    "            \n",
    "            stats[\"diff\"] = stats[\"edition\"] - stats[manuscrit]\n",
    "            counts.append(stats)"
   ]
  },
  {
   "cell_type": "code",
   "execution_count": null,
   "metadata": {},
   "outputs": [],
   "source": []
  }
 ],
 "metadata": {
  "kernelspec": {
   "display_name": "Python 3",
   "language": "python",
   "name": "python3"
  },
  "language_info": {
   "codemirror_mode": {
    "name": "ipython",
    "version": 3
   },
   "file_extension": ".py",
   "mimetype": "text/x-python",
   "name": "python",
   "nbconvert_exporter": "python",
   "pygments_lexer": "ipython3",
   "version": "3.7.4"
  },
  "widgets": {
   "application/vnd.jupyter.widget-state+json": {
    "state": {},
    "version_major": 2,
    "version_minor": 0
   }
  }
 },
 "nbformat": 4,
 "nbformat_minor": 2
}
